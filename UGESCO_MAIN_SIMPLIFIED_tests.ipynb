{
 "cells": [
  {
   "cell_type": "markdown",
   "metadata": {
    "ExecuteTime": {
     "end_time": "2017-12-30T22:08:44.879497Z",
     "start_time": "2017-12-30T22:08:44.870500Z"
    }
   },
   "source": [
    "# Ugesco : enrich and desambiguate a sample of the Samnang-Hans' JSON"
   ]
  },
  {
   "cell_type": "code",
   "execution_count": 1,
   "metadata": {
    "ExecuteTime": {
     "end_time": "2018-06-22T13:36:43.717923Z",
     "start_time": "2018-06-22T13:36:42.529606Z"
    },
    "hide_output": true,
    "run_control": {
     "marked": false
    }
   },
   "outputs": [
    {
     "name": "stderr",
     "output_type": "stream",
     "text": [
      "D:\\Anaconda3\\lib\\importlib\\_bootstrap.py:219: ImportWarning: can't resolve package from __spec__ or __package__, falling back on __name__ and __path__\n",
      "  return f(*args, **kwds)\n",
      "D:\\Anaconda3\\lib\\importlib\\_bootstrap.py:219: ImportWarning: can't resolve package from __spec__ or __package__, falling back on __name__ and __path__\n",
      "  return f(*args, **kwds)\n",
      "D:\\Anaconda3\\lib\\importlib\\_bootstrap.py:219: ImportWarning: can't resolve package from __spec__ or __package__, falling back on __name__ and __path__\n",
      "  return f(*args, **kwds)\n",
      "D:\\Anaconda3\\lib\\importlib\\_bootstrap.py:219: ImportWarning: can't resolve package from __spec__ or __package__, falling back on __name__ and __path__\n",
      "  return f(*args, **kwds)\n",
      "D:\\Anaconda3\\lib\\importlib\\_bootstrap.py:219: ImportWarning: can't resolve package from __spec__ or __package__, falling back on __name__ and __path__\n",
      "  return f(*args, **kwds)\n",
      "D:\\Anaconda3\\lib\\importlib\\_bootstrap.py:219: ImportWarning: can't resolve package from __spec__ or __package__, falling back on __name__ and __path__\n",
      "  return f(*args, **kwds)\n",
      "D:\\Anaconda3\\lib\\importlib\\_bootstrap.py:219: ImportWarning: can't resolve package from __spec__ or __package__, falling back on __name__ and __path__\n",
      "  return f(*args, **kwds)\n",
      "D:\\Anaconda3\\lib\\importlib\\_bootstrap.py:219: ImportWarning: can't resolve package from __spec__ or __package__, falling back on __name__ and __path__\n",
      "  return f(*args, **kwds)\n",
      "D:\\Anaconda3\\lib\\importlib\\_bootstrap.py:219: ImportWarning: can't resolve package from __spec__ or __package__, falling back on __name__ and __path__\n",
      "  return f(*args, **kwds)\n",
      "D:\\Anaconda3\\lib\\importlib\\_bootstrap.py:219: ImportWarning: can't resolve package from __spec__ or __package__, falling back on __name__ and __path__\n",
      "  return f(*args, **kwds)\n",
      "D:\\Anaconda3\\lib\\importlib\\_bootstrap.py:219: ImportWarning: can't resolve package from __spec__ or __package__, falling back on __name__ and __path__\n",
      "  return f(*args, **kwds)\n",
      "D:\\Anaconda3\\lib\\importlib\\_bootstrap.py:219: ImportWarning: can't resolve package from __spec__ or __package__, falling back on __name__ and __path__\n",
      "  return f(*args, **kwds)\n",
      "D:\\Anaconda3\\lib\\importlib\\_bootstrap.py:219: ImportWarning: can't resolve package from __spec__ or __package__, falling back on __name__ and __path__\n",
      "  return f(*args, **kwds)\n",
      "D:\\Anaconda3\\lib\\importlib\\_bootstrap.py:219: ImportWarning: can't resolve package from __spec__ or __package__, falling back on __name__ and __path__\n",
      "  return f(*args, **kwds)\n",
      "D:\\Anaconda3\\lib\\importlib\\_bootstrap.py:219: ImportWarning: can't resolve package from __spec__ or __package__, falling back on __name__ and __path__\n",
      "  return f(*args, **kwds)\n",
      "D:\\Anaconda3\\lib\\importlib\\_bootstrap.py:219: ImportWarning: can't resolve package from __spec__ or __package__, falling back on __name__ and __path__\n",
      "  return f(*args, **kwds)\n",
      "D:\\Anaconda3\\lib\\importlib\\_bootstrap.py:219: ImportWarning: can't resolve package from __spec__ or __package__, falling back on __name__ and __path__\n",
      "  return f(*args, **kwds)\n",
      "D:\\Anaconda3\\lib\\importlib\\_bootstrap.py:219: ImportWarning: can't resolve package from __spec__ or __package__, falling back on __name__ and __path__\n",
      "  return f(*args, **kwds)\n",
      "D:\\Anaconda3\\lib\\importlib\\_bootstrap.py:219: ImportWarning: can't resolve package from __spec__ or __package__, falling back on __name__ and __path__\n",
      "  return f(*args, **kwds)\n",
      "D:\\Anaconda3\\lib\\importlib\\_bootstrap.py:219: ImportWarning: can't resolve package from __spec__ or __package__, falling back on __name__ and __path__\n",
      "  return f(*args, **kwds)\n",
      "D:\\Anaconda3\\lib\\importlib\\_bootstrap.py:219: ImportWarning: can't resolve package from __spec__ or __package__, falling back on __name__ and __path__\n",
      "  return f(*args, **kwds)\n",
      "D:\\Anaconda3\\lib\\importlib\\_bootstrap.py:219: ImportWarning: can't resolve package from __spec__ or __package__, falling back on __name__ and __path__\n",
      "  return f(*args, **kwds)\n",
      "D:\\Anaconda3\\lib\\importlib\\_bootstrap.py:219: ImportWarning: can't resolve package from __spec__ or __package__, falling back on __name__ and __path__\n",
      "  return f(*args, **kwds)\n",
      "D:\\Anaconda3\\lib\\importlib\\_bootstrap.py:219: ImportWarning: can't resolve package from __spec__ or __package__, falling back on __name__ and __path__\n",
      "  return f(*args, **kwds)\n",
      "D:\\Anaconda3\\lib\\importlib\\_bootstrap.py:219: ImportWarning: can't resolve package from __spec__ or __package__, falling back on __name__ and __path__\n",
      "  return f(*args, **kwds)\n",
      "D:\\Anaconda3\\lib\\importlib\\_bootstrap.py:219: ImportWarning: can't resolve package from __spec__ or __package__, falling back on __name__ and __path__\n",
      "  return f(*args, **kwds)\n",
      "D:\\Anaconda3\\lib\\importlib\\_bootstrap.py:219: ImportWarning: can't resolve package from __spec__ or __package__, falling back on __name__ and __path__\n",
      "  return f(*args, **kwds)\n",
      "D:\\Anaconda3\\lib\\importlib\\_bootstrap.py:219: ImportWarning: can't resolve package from __spec__ or __package__, falling back on __name__ and __path__\n",
      "  return f(*args, **kwds)\n",
      "D:\\Anaconda3\\lib\\importlib\\_bootstrap.py:219: ImportWarning: can't resolve package from __spec__ or __package__, falling back on __name__ and __path__\n",
      "  return f(*args, **kwds)\n",
      "D:\\Anaconda3\\lib\\importlib\\_bootstrap.py:219: ImportWarning: can't resolve package from __spec__ or __package__, falling back on __name__ and __path__\n",
      "  return f(*args, **kwds)\n",
      "D:\\Anaconda3\\lib\\importlib\\_bootstrap.py:219: ImportWarning: can't resolve package from __spec__ or __package__, falling back on __name__ and __path__\n",
      "  return f(*args, **kwds)\n",
      "D:\\Anaconda3\\lib\\importlib\\_bootstrap.py:219: ImportWarning: can't resolve package from __spec__ or __package__, falling back on __name__ and __path__\n",
      "  return f(*args, **kwds)\n",
      "D:\\Anaconda3\\lib\\importlib\\_bootstrap.py:219: ImportWarning: can't resolve package from __spec__ or __package__, falling back on __name__ and __path__\n",
      "  return f(*args, **kwds)\n",
      "D:\\Anaconda3\\lib\\importlib\\_bootstrap.py:219: ImportWarning: can't resolve package from __spec__ or __package__, falling back on __name__ and __path__\n",
      "  return f(*args, **kwds)\n",
      "D:\\Anaconda3\\lib\\importlib\\_bootstrap.py:219: ImportWarning: can't resolve package from __spec__ or __package__, falling back on __name__ and __path__\n",
      "  return f(*args, **kwds)\n",
      "D:\\Anaconda3\\lib\\importlib\\_bootstrap.py:219: ImportWarning: can't resolve package from __spec__ or __package__, falling back on __name__ and __path__\n",
      "  return f(*args, **kwds)\n",
      "D:\\Anaconda3\\lib\\importlib\\_bootstrap.py:219: ImportWarning: can't resolve package from __spec__ or __package__, falling back on __name__ and __path__\n",
      "  return f(*args, **kwds)\n",
      "D:\\Anaconda3\\lib\\importlib\\_bootstrap.py:219: ImportWarning: can't resolve package from __spec__ or __package__, falling back on __name__ and __path__\n",
      "  return f(*args, **kwds)\n",
      "D:\\Anaconda3\\lib\\importlib\\_bootstrap.py:219: ImportWarning: can't resolve package from __spec__ or __package__, falling back on __name__ and __path__\n",
      "  return f(*args, **kwds)\n",
      "D:\\Anaconda3\\lib\\importlib\\_bootstrap.py:219: ImportWarning: can't resolve package from __spec__ or __package__, falling back on __name__ and __path__\n",
      "  return f(*args, **kwds)\n",
      "D:\\Anaconda3\\lib\\importlib\\_bootstrap.py:219: ImportWarning: can't resolve package from __spec__ or __package__, falling back on __name__ and __path__\n",
      "  return f(*args, **kwds)\n",
      "D:\\Anaconda3\\lib\\importlib\\_bootstrap.py:219: ImportWarning: can't resolve package from __spec__ or __package__, falling back on __name__ and __path__\n",
      "  return f(*args, **kwds)\n",
      "D:\\Anaconda3\\lib\\importlib\\_bootstrap.py:219: ImportWarning: can't resolve package from __spec__ or __package__, falling back on __name__ and __path__\n",
      "  return f(*args, **kwds)\n",
      "D:\\Anaconda3\\lib\\importlib\\_bootstrap.py:219: ImportWarning: can't resolve package from __spec__ or __package__, falling back on __name__ and __path__\n",
      "  return f(*args, **kwds)\n",
      "D:\\Anaconda3\\lib\\importlib\\_bootstrap.py:219: ImportWarning: can't resolve package from __spec__ or __package__, falling back on __name__ and __path__\n",
      "  return f(*args, **kwds)\n",
      "D:\\Anaconda3\\lib\\importlib\\_bootstrap.py:219: ImportWarning: can't resolve package from __spec__ or __package__, falling back on __name__ and __path__\n",
      "  return f(*args, **kwds)\n",
      "D:\\Anaconda3\\lib\\importlib\\_bootstrap.py:219: ImportWarning: can't resolve package from __spec__ or __package__, falling back on __name__ and __path__\n",
      "  return f(*args, **kwds)\n",
      "D:\\Anaconda3\\lib\\importlib\\_bootstrap.py:219: ImportWarning: can't resolve package from __spec__ or __package__, falling back on __name__ and __path__\n",
      "  return f(*args, **kwds)\n",
      "D:\\Anaconda3\\lib\\importlib\\_bootstrap.py:219: ImportWarning: can't resolve package from __spec__ or __package__, falling back on __name__ and __path__\n",
      "  return f(*args, **kwds)\n",
      "D:\\Anaconda3\\lib\\importlib\\_bootstrap.py:219: ImportWarning: can't resolve package from __spec__ or __package__, falling back on __name__ and __path__\n",
      "  return f(*args, **kwds)\n"
     ]
    }
   ],
   "source": [
    "from ugesco import *"
   ]
  },
  {
   "cell_type": "code",
   "execution_count": 2,
   "metadata": {
    "ExecuteTime": {
     "end_time": "2018-06-22T13:36:43.734926Z",
     "start_time": "2018-06-22T13:36:43.718923Z"
    },
    "hide_output": true,
    "run_control": {
     "marked": false
    }
   },
   "outputs": [],
   "source": [
    "#test sur un Json contenant 5 éléments pris au hasard\n",
    "import json\n",
    "import random\n",
    "with open(r\"C:\\Users\\ettor\\Documents\\GitHub\\UGESCO\\data\\jsondata_ugesco.json\", \"r\", encoding=\"utf8\") as file:\n",
    "    json = json.load(file)\n",
    "sample = random.sample(json, k=5)\n"
   ]
  },
  {
   "cell_type": "code",
   "execution_count": 3,
   "metadata": {
    "ExecuteTime": {
     "end_time": "2018-06-22T13:36:43.839868Z",
     "start_time": "2018-06-22T13:36:43.735912Z"
    },
    "run_control": {
     "marked": false
    }
   },
   "outputs": [],
   "source": [
    "data = pd.DataFrame([flatten(line) for line in sample])"
   ]
  },
  {
   "cell_type": "code",
   "execution_count": 4,
   "metadata": {
    "ExecuteTime": {
     "end_time": "2018-06-22T13:36:43.974788Z",
     "start_time": "2018-06-22T13:36:43.840854Z"
    }
   },
   "outputs": [
    {
     "data": {
      "text/html": [
       "<div>\n",
       "<style scoped>\n",
       "    .dataframe tbody tr th:only-of-type {\n",
       "        vertical-align: middle;\n",
       "    }\n",
       "\n",
       "    .dataframe tbody tr th {\n",
       "        vertical-align: top;\n",
       "    }\n",
       "\n",
       "    .dataframe thead th {\n",
       "        text-align: right;\n",
       "    }\n",
       "</style>\n",
       "<table border=\"1\" class=\"dataframe\">\n",
       "  <thead>\n",
       "    <tr style=\"text-align: right;\">\n",
       "      <th></th>\n",
       "      <th>beeldid</th>\n",
       "      <th>imageclassification_class1</th>\n",
       "      <th>imageclassification_class2</th>\n",
       "      <th>imageclassification_class3</th>\n",
       "      <th>imageclassification_class4</th>\n",
       "      <th>imageclassification_class5</th>\n",
       "      <th>imageclassification_prob1</th>\n",
       "      <th>imageclassification_prob2</th>\n",
       "      <th>imageclassification_prob3</th>\n",
       "      <th>imageclassification_prob4</th>\n",
       "      <th>imageclassification_prob5</th>\n",
       "      <th>spatial_key_0</th>\n",
       "      <th>spatial_key_1</th>\n",
       "      <th>spatial_key_2</th>\n",
       "      <th>spatial_value_0</th>\n",
       "      <th>spatial_value_1</th>\n",
       "      <th>spatial_value_2</th>\n",
       "      <th>temporal</th>\n",
       "    </tr>\n",
       "  </thead>\n",
       "  <tbody>\n",
       "    <tr>\n",
       "      <th>0</th>\n",
       "      <td>00038225</td>\n",
       "      <td>plaza</td>\n",
       "      <td>auditorium</td>\n",
       "      <td>television_studio</td>\n",
       "      <td>courtyard</td>\n",
       "      <td>stage/indoor</td>\n",
       "      <td>0.193922</td>\n",
       "      <td>0.052447</td>\n",
       "      <td>0.035257</td>\n",
       "      <td>0.035217</td>\n",
       "      <td>0.029309</td>\n",
       "      <td>LOC_BUILDING</td>\n",
       "      <td>NaN</td>\n",
       "      <td>NaN</td>\n",
       "      <td>Lycée Commun , d' Ixelles</td>\n",
       "      <td>NaN</td>\n",
       "      <td>NaN</td>\n",
       "      <td>None</td>\n",
       "    </tr>\n",
       "    <tr>\n",
       "      <th>1</th>\n",
       "      <td>00005881</td>\n",
       "      <td>street</td>\n",
       "      <td>embassy</td>\n",
       "      <td>plaza</td>\n",
       "      <td>office_building</td>\n",
       "      <td>apartment_building/outdoor</td>\n",
       "      <td>0.377983</td>\n",
       "      <td>0.327560</td>\n",
       "      <td>0.119684</td>\n",
       "      <td>0.036492</td>\n",
       "      <td>0.028549</td>\n",
       "      <td>LOC_PLACE</td>\n",
       "      <td>NaN</td>\n",
       "      <td>NaN</td>\n",
       "      <td>Bruges</td>\n",
       "      <td>NaN</td>\n",
       "      <td>NaN</td>\n",
       "      <td>None</td>\n",
       "    </tr>\n",
       "    <tr>\n",
       "      <th>2</th>\n",
       "      <td>00029746</td>\n",
       "      <td>apartment_building/outdoor</td>\n",
       "      <td>building_facade</td>\n",
       "      <td>street</td>\n",
       "      <td>aqueduct</td>\n",
       "      <td>office_building</td>\n",
       "      <td>0.624949</td>\n",
       "      <td>0.072448</td>\n",
       "      <td>0.072407</td>\n",
       "      <td>0.044429</td>\n",
       "      <td>0.029015</td>\n",
       "      <td>LOC_PLACE</td>\n",
       "      <td>LOC_BUILDING</td>\n",
       "      <td>LOC_PLACE</td>\n",
       "      <td>Verviers</td>\n",
       "      <td>Le Palais de Justice</td>\n",
       "      <td>Verviers</td>\n",
       "      <td>None</td>\n",
       "    </tr>\n",
       "    <tr>\n",
       "      <th>3</th>\n",
       "      <td>00029795</td>\n",
       "      <td>palace</td>\n",
       "      <td>courthouse</td>\n",
       "      <td>plaza</td>\n",
       "      <td>library/outdoor</td>\n",
       "      <td>church/outdoor</td>\n",
       "      <td>0.333751</td>\n",
       "      <td>0.116114</td>\n",
       "      <td>0.085986</td>\n",
       "      <td>0.084669</td>\n",
       "      <td>0.056719</td>\n",
       "      <td>LOC_BUILDING</td>\n",
       "      <td>LOC_PLACE</td>\n",
       "      <td>NaN</td>\n",
       "      <td>l' hôtel de ville</td>\n",
       "      <td>Verviers</td>\n",
       "      <td>NaN</td>\n",
       "      <td>None</td>\n",
       "    </tr>\n",
       "    <tr>\n",
       "      <th>4</th>\n",
       "      <td>00010703</td>\n",
       "      <td>bazaar/outdoor</td>\n",
       "      <td>market/outdoor</td>\n",
       "      <td>street</td>\n",
       "      <td>flea_market/indoor</td>\n",
       "      <td>slum</td>\n",
       "      <td>0.845973</td>\n",
       "      <td>0.059354</td>\n",
       "      <td>0.023403</td>\n",
       "      <td>0.022964</td>\n",
       "      <td>0.013281</td>\n",
       "      <td>LOC_PLACE</td>\n",
       "      <td>NaN</td>\n",
       "      <td>NaN</td>\n",
       "      <td>Malines</td>\n",
       "      <td>NaN</td>\n",
       "      <td>NaN</td>\n",
       "      <td>None</td>\n",
       "    </tr>\n",
       "  </tbody>\n",
       "</table>\n",
       "</div>"
      ],
      "text/plain": [
       "    beeldid  imageclassification_class1 imageclassification_class2  \\\n",
       "0  00038225                       plaza                 auditorium   \n",
       "1  00005881                      street                    embassy   \n",
       "2  00029746  apartment_building/outdoor            building_facade   \n",
       "3  00029795                      palace                 courthouse   \n",
       "4  00010703              bazaar/outdoor             market/outdoor   \n",
       "\n",
       "  imageclassification_class3 imageclassification_class4  \\\n",
       "0          television_studio                  courtyard   \n",
       "1                      plaza            office_building   \n",
       "2                     street                   aqueduct   \n",
       "3                      plaza            library/outdoor   \n",
       "4                     street         flea_market/indoor   \n",
       "\n",
       "   imageclassification_class5  imageclassification_prob1  \\\n",
       "0                stage/indoor                   0.193922   \n",
       "1  apartment_building/outdoor                   0.377983   \n",
       "2             office_building                   0.624949   \n",
       "3              church/outdoor                   0.333751   \n",
       "4                        slum                   0.845973   \n",
       "\n",
       "   imageclassification_prob2  imageclassification_prob3  \\\n",
       "0                   0.052447                   0.035257   \n",
       "1                   0.327560                   0.119684   \n",
       "2                   0.072448                   0.072407   \n",
       "3                   0.116114                   0.085986   \n",
       "4                   0.059354                   0.023403   \n",
       "\n",
       "   imageclassification_prob4  imageclassification_prob5 spatial_key_0  \\\n",
       "0                   0.035217                   0.029309  LOC_BUILDING   \n",
       "1                   0.036492                   0.028549     LOC_PLACE   \n",
       "2                   0.044429                   0.029015     LOC_PLACE   \n",
       "3                   0.084669                   0.056719  LOC_BUILDING   \n",
       "4                   0.022964                   0.013281     LOC_PLACE   \n",
       "\n",
       "  spatial_key_1 spatial_key_2            spatial_value_0  \\\n",
       "0           NaN           NaN  Lycée Commun , d' Ixelles   \n",
       "1           NaN           NaN                     Bruges   \n",
       "2  LOC_BUILDING     LOC_PLACE                   Verviers   \n",
       "3     LOC_PLACE           NaN          l' hôtel de ville   \n",
       "4           NaN           NaN                    Malines   \n",
       "\n",
       "        spatial_value_1 spatial_value_2 temporal  \n",
       "0                   NaN             NaN     None  \n",
       "1                   NaN             NaN     None  \n",
       "2  Le Palais de Justice        Verviers     None  \n",
       "3              Verviers             NaN     None  \n",
       "4                   NaN             NaN     None  "
      ]
     },
     "execution_count": 4,
     "metadata": {},
     "output_type": "execute_result"
    }
   ],
   "source": [
    "data.head()"
   ]
  },
  {
   "cell_type": "code",
   "execution_count": 5,
   "metadata": {
    "ExecuteTime": {
     "end_time": "2018-06-22T13:36:44.071720Z",
     "start_time": "2018-06-22T13:36:43.975774Z"
    },
    "hide_output": true,
    "run_control": {
     "marked": false
    }
   },
   "outputs": [],
   "source": [
    "# exclude image classifications and temporal values for the moment\n",
    "data = data[data.columns.drop(list(data.filter(regex='imageclassification|temporal')))]"
   ]
  },
  {
   "cell_type": "code",
   "execution_count": 6,
   "metadata": {
    "ExecuteTime": {
     "end_time": "2018-06-22T13:36:44.212654Z",
     "start_time": "2018-06-22T13:36:44.072720Z"
    },
    "hide_output": true,
    "run_control": {
     "marked": false
    }
   },
   "outputs": [],
   "source": [
    "# reshape the dataframe verticaly\n",
    "data = data.set_index('beeldid')\n",
    "data.columns = data.columns.str.split('_', expand=True)"
   ]
  },
  {
   "cell_type": "code",
   "execution_count": 7,
   "metadata": {
    "ExecuteTime": {
     "end_time": "2018-06-22T13:36:44.318591Z",
     "start_time": "2018-06-22T13:36:44.213639Z"
    },
    "hide_output": true,
    "run_control": {
     "marked": false
    }
   },
   "outputs": [],
   "source": [
    "data = data.stack().reset_index(level=1, drop=True).reset_index()"
   ]
  },
  {
   "cell_type": "code",
   "execution_count": 8,
   "metadata": {
    "ExecuteTime": {
     "end_time": "2018-06-22T13:36:44.425518Z",
     "start_time": "2018-06-22T13:36:44.319578Z"
    },
    "run_control": {
     "marked": false
    }
   },
   "outputs": [
    {
     "data": {
      "text/html": [
       "<div>\n",
       "<style scoped>\n",
       "    .dataframe tbody tr th:only-of-type {\n",
       "        vertical-align: middle;\n",
       "    }\n",
       "\n",
       "    .dataframe tbody tr th {\n",
       "        vertical-align: top;\n",
       "    }\n",
       "\n",
       "    .dataframe thead tr th {\n",
       "        text-align: left;\n",
       "    }\n",
       "</style>\n",
       "<table border=\"1\" class=\"dataframe\">\n",
       "  <thead>\n",
       "    <tr>\n",
       "      <th></th>\n",
       "      <th>beeldid</th>\n",
       "      <th colspan=\"2\" halign=\"left\">spatial</th>\n",
       "    </tr>\n",
       "    <tr>\n",
       "      <th></th>\n",
       "      <th></th>\n",
       "      <th>key</th>\n",
       "      <th>value</th>\n",
       "    </tr>\n",
       "  </thead>\n",
       "  <tbody>\n",
       "    <tr>\n",
       "      <th>0</th>\n",
       "      <td>00038225</td>\n",
       "      <td>LOC_BUILDING</td>\n",
       "      <td>Lycée Commun , d' Ixelles</td>\n",
       "    </tr>\n",
       "    <tr>\n",
       "      <th>1</th>\n",
       "      <td>00005881</td>\n",
       "      <td>LOC_PLACE</td>\n",
       "      <td>Bruges</td>\n",
       "    </tr>\n",
       "    <tr>\n",
       "      <th>2</th>\n",
       "      <td>00029746</td>\n",
       "      <td>LOC_PLACE</td>\n",
       "      <td>Verviers</td>\n",
       "    </tr>\n",
       "    <tr>\n",
       "      <th>3</th>\n",
       "      <td>00029746</td>\n",
       "      <td>LOC_BUILDING</td>\n",
       "      <td>Le Palais de Justice</td>\n",
       "    </tr>\n",
       "    <tr>\n",
       "      <th>4</th>\n",
       "      <td>00029746</td>\n",
       "      <td>LOC_PLACE</td>\n",
       "      <td>Verviers</td>\n",
       "    </tr>\n",
       "  </tbody>\n",
       "</table>\n",
       "</div>"
      ],
      "text/plain": [
       "    beeldid       spatial                           \n",
       "                      key                      value\n",
       "0  00038225  LOC_BUILDING  Lycée Commun , d' Ixelles\n",
       "1  00005881     LOC_PLACE                     Bruges\n",
       "2  00029746     LOC_PLACE                   Verviers\n",
       "3  00029746  LOC_BUILDING       Le Palais de Justice\n",
       "4  00029746     LOC_PLACE                   Verviers"
      ]
     },
     "execution_count": 8,
     "metadata": {},
     "output_type": "execute_result"
    }
   ],
   "source": [
    "data.head()"
   ]
  },
  {
   "cell_type": "code",
   "execution_count": 9,
   "metadata": {
    "ExecuteTime": {
     "end_time": "2018-06-22T13:36:44.553544Z",
     "start_time": "2018-06-22T13:36:44.426516Z"
    },
    "hide_output": true,
    "run_control": {
     "marked": false
    }
   },
   "outputs": [],
   "source": [
    "data.columns = ['_'.join(col) for col in data.columns]"
   ]
  },
  {
   "cell_type": "code",
   "execution_count": 10,
   "metadata": {
    "ExecuteTime": {
     "end_time": "2018-06-22T13:36:44.658813Z",
     "start_time": "2018-06-22T13:36:44.555505Z"
    },
    "hide_output": true,
    "run_control": {
     "marked": false
    }
   },
   "outputs": [],
   "source": [
    "data.rename(columns={'beeldid_': 'beeldid'}, inplace=True)"
   ]
  },
  {
   "cell_type": "code",
   "execution_count": 11,
   "metadata": {
    "ExecuteTime": {
     "end_time": "2018-06-22T13:36:44.758164Z",
     "start_time": "2018-06-22T13:36:44.659812Z"
    }
   },
   "outputs": [
    {
     "data": {
      "text/html": [
       "<div>\n",
       "<style scoped>\n",
       "    .dataframe tbody tr th:only-of-type {\n",
       "        vertical-align: middle;\n",
       "    }\n",
       "\n",
       "    .dataframe tbody tr th {\n",
       "        vertical-align: top;\n",
       "    }\n",
       "\n",
       "    .dataframe thead th {\n",
       "        text-align: right;\n",
       "    }\n",
       "</style>\n",
       "<table border=\"1\" class=\"dataframe\">\n",
       "  <thead>\n",
       "    <tr style=\"text-align: right;\">\n",
       "      <th></th>\n",
       "      <th>beeldid</th>\n",
       "      <th>spatial_key</th>\n",
       "      <th>spatial_value</th>\n",
       "    </tr>\n",
       "  </thead>\n",
       "  <tbody>\n",
       "    <tr>\n",
       "      <th>0</th>\n",
       "      <td>00038225</td>\n",
       "      <td>LOC_BUILDING</td>\n",
       "      <td>Lycée Commun , d' Ixelles</td>\n",
       "    </tr>\n",
       "    <tr>\n",
       "      <th>1</th>\n",
       "      <td>00005881</td>\n",
       "      <td>LOC_PLACE</td>\n",
       "      <td>Bruges</td>\n",
       "    </tr>\n",
       "    <tr>\n",
       "      <th>2</th>\n",
       "      <td>00029746</td>\n",
       "      <td>LOC_PLACE</td>\n",
       "      <td>Verviers</td>\n",
       "    </tr>\n",
       "    <tr>\n",
       "      <th>3</th>\n",
       "      <td>00029746</td>\n",
       "      <td>LOC_BUILDING</td>\n",
       "      <td>Le Palais de Justice</td>\n",
       "    </tr>\n",
       "    <tr>\n",
       "      <th>4</th>\n",
       "      <td>00029746</td>\n",
       "      <td>LOC_PLACE</td>\n",
       "      <td>Verviers</td>\n",
       "    </tr>\n",
       "  </tbody>\n",
       "</table>\n",
       "</div>"
      ],
      "text/plain": [
       "    beeldid   spatial_key              spatial_value\n",
       "0  00038225  LOC_BUILDING  Lycée Commun , d' Ixelles\n",
       "1  00005881     LOC_PLACE                     Bruges\n",
       "2  00029746     LOC_PLACE                   Verviers\n",
       "3  00029746  LOC_BUILDING       Le Palais de Justice\n",
       "4  00029746     LOC_PLACE                   Verviers"
      ]
     },
     "execution_count": 11,
     "metadata": {},
     "output_type": "execute_result"
    }
   ],
   "source": [
    "data.head()"
   ]
  },
  {
   "cell_type": "code",
   "execution_count": 12,
   "metadata": {
    "ExecuteTime": {
     "end_time": "2018-06-22T13:36:47.003323Z",
     "start_time": "2018-06-22T13:36:44.759163Z"
    },
    "hide_output": true,
    "run_control": {
     "marked": false
    }
   },
   "outputs": [],
   "source": [
    "#join/merge with phototheque_pallas to get the locations. \n",
    "#The csv is gzipped to get around the 100MB file weigth limitation of Github\n",
    "phototeque = pd.read_csv(\"data/phototheque_pallas.csv.gz\", compression=\"gzip\", encoding=\"utf8\", dtype={'beeldid': str})\n",
    "\n",
    "data = pd.merge(data, phototeque, how='left', on=['beeldid'], suffixes=['', '_x'])"
   ]
  },
  {
   "cell_type": "code",
   "execution_count": 13,
   "metadata": {
    "ExecuteTime": {
     "end_time": "2018-06-22T13:36:47.007320Z",
     "start_time": "2018-06-22T13:36:47.004321Z"
    },
    "hide_output": true,
    "run_control": {
     "marked": false
    }
   },
   "outputs": [],
   "source": [
    "# Pictures that contains more than a loc in the thesaurus descriptors\n",
    "\n",
    "#data[data['loc_qid'].str.contains(\",\", na = False)]"
   ]
  },
  {
   "cell_type": "code",
   "execution_count": 14,
   "metadata": {
    "ExecuteTime": {
     "end_time": "2018-06-22T13:36:47.155608Z",
     "start_time": "2018-06-22T13:36:47.008319Z"
    }
   },
   "outputs": [
    {
     "data": {
      "text/html": [
       "<div>\n",
       "<style scoped>\n",
       "    .dataframe tbody tr th:only-of-type {\n",
       "        vertical-align: middle;\n",
       "    }\n",
       "\n",
       "    .dataframe tbody tr th {\n",
       "        vertical-align: top;\n",
       "    }\n",
       "\n",
       "    .dataframe thead th {\n",
       "        text-align: right;\n",
       "    }\n",
       "</style>\n",
       "<table border=\"1\" class=\"dataframe\">\n",
       "  <thead>\n",
       "    <tr style=\"text-align: right;\">\n",
       "      <th></th>\n",
       "      <th>beeldid</th>\n",
       "      <th>spatial_key</th>\n",
       "      <th>spatial_value</th>\n",
       "      <th>lien_phototheque</th>\n",
       "      <th>LEGEND</th>\n",
       "      <th>BPALLASF</th>\n",
       "      <th>trfwnumm</th>\n",
       "      <th>keyword</th>\n",
       "      <th>country_qid</th>\n",
       "      <th>country_name</th>\n",
       "      <th>loc_qid</th>\n",
       "      <th>loc_name</th>\n",
       "    </tr>\n",
       "  </thead>\n",
       "  <tbody>\n",
       "    <tr>\n",
       "      <th>0</th>\n",
       "      <td>00038225</td>\n",
       "      <td>LOC_BUILDING</td>\n",
       "      <td>Lycée Commun , d' Ixelles</td>\n",
       "      <td>http://pallas.cegesoma.be/pls/opac/opac.search...</td>\n",
       "      <td>Les élèves du Lycée Commun, d'Ixelles se repos...</td>\n",
       "      <td>Danse, cirque, variétés et théâtre : [1936-193...</td>\n",
       "      <td>4349.0</td>\n",
       "      <td>danse--belgique</td>\n",
       "      <td>Q31</td>\n",
       "      <td>Belgium</td>\n",
       "      <td>NaN</td>\n",
       "      <td>NaN</td>\n",
       "    </tr>\n",
       "    <tr>\n",
       "      <th>1</th>\n",
       "      <td>00005881</td>\n",
       "      <td>LOC_PLACE</td>\n",
       "      <td>Bruges</td>\n",
       "      <td>http://pallas.cegesoma.be/pls/opac/opac.search...</td>\n",
       "      <td>Ravitaillement à Bruges. [foto Huis Van Eyck]</td>\n",
       "      <td>Vie quotidienne à Bruges, 1940-1945. - 8 photos</td>\n",
       "      <td>241.0</td>\n",
       "      <td>vie pratique--brugge (belgique)</td>\n",
       "      <td>Q31</td>\n",
       "      <td>Belgium</td>\n",
       "      <td>Q12994</td>\n",
       "      <td>Bruges</td>\n",
       "    </tr>\n",
       "    <tr>\n",
       "      <th>2</th>\n",
       "      <td>00029746</td>\n",
       "      <td>LOC_PLACE</td>\n",
       "      <td>Verviers</td>\n",
       "      <td>http://pallas.cegesoma.be/pls/opac/opac.search...</td>\n",
       "      <td>Jour de la libération de Verviers. Le Palais d...</td>\n",
       "      <td>Libération de Verviers par les alliés, 9/1944....</td>\n",
       "      <td>1764.0</td>\n",
       "      <td>verviers (belgique)--histoire--1944-1945 (libe...</td>\n",
       "      <td>Q31</td>\n",
       "      <td>Belgium</td>\n",
       "      <td>Q202954</td>\n",
       "      <td>Verviers</td>\n",
       "    </tr>\n",
       "    <tr>\n",
       "      <th>3</th>\n",
       "      <td>00029746</td>\n",
       "      <td>LOC_BUILDING</td>\n",
       "      <td>Le Palais de Justice</td>\n",
       "      <td>http://pallas.cegesoma.be/pls/opac/opac.search...</td>\n",
       "      <td>Jour de la libération de Verviers. Le Palais d...</td>\n",
       "      <td>Libération de Verviers par les alliés, 9/1944....</td>\n",
       "      <td>1764.0</td>\n",
       "      <td>verviers (belgique)--histoire--1944-1945 (libe...</td>\n",
       "      <td>Q31</td>\n",
       "      <td>Belgium</td>\n",
       "      <td>Q202954</td>\n",
       "      <td>Verviers</td>\n",
       "    </tr>\n",
       "    <tr>\n",
       "      <th>4</th>\n",
       "      <td>00029746</td>\n",
       "      <td>LOC_PLACE</td>\n",
       "      <td>Verviers</td>\n",
       "      <td>http://pallas.cegesoma.be/pls/opac/opac.search...</td>\n",
       "      <td>Jour de la libération de Verviers. Le Palais d...</td>\n",
       "      <td>Libération de Verviers par les alliés, 9/1944....</td>\n",
       "      <td>1764.0</td>\n",
       "      <td>verviers (belgique)--histoire--1944-1945 (libe...</td>\n",
       "      <td>Q31</td>\n",
       "      <td>Belgium</td>\n",
       "      <td>Q202954</td>\n",
       "      <td>Verviers</td>\n",
       "    </tr>\n",
       "  </tbody>\n",
       "</table>\n",
       "</div>"
      ],
      "text/plain": [
       "    beeldid   spatial_key              spatial_value  \\\n",
       "0  00038225  LOC_BUILDING  Lycée Commun , d' Ixelles   \n",
       "1  00005881     LOC_PLACE                     Bruges   \n",
       "2  00029746     LOC_PLACE                   Verviers   \n",
       "3  00029746  LOC_BUILDING       Le Palais de Justice   \n",
       "4  00029746     LOC_PLACE                   Verviers   \n",
       "\n",
       "                                    lien_phototheque  \\\n",
       "0  http://pallas.cegesoma.be/pls/opac/opac.search...   \n",
       "1  http://pallas.cegesoma.be/pls/opac/opac.search...   \n",
       "2  http://pallas.cegesoma.be/pls/opac/opac.search...   \n",
       "3  http://pallas.cegesoma.be/pls/opac/opac.search...   \n",
       "4  http://pallas.cegesoma.be/pls/opac/opac.search...   \n",
       "\n",
       "                                              LEGEND  \\\n",
       "0  Les élèves du Lycée Commun, d'Ixelles se repos...   \n",
       "1      Ravitaillement à Bruges. [foto Huis Van Eyck]   \n",
       "2  Jour de la libération de Verviers. Le Palais d...   \n",
       "3  Jour de la libération de Verviers. Le Palais d...   \n",
       "4  Jour de la libération de Verviers. Le Palais d...   \n",
       "\n",
       "                                            BPALLASF  trfwnumm  \\\n",
       "0  Danse, cirque, variétés et théâtre : [1936-193...    4349.0   \n",
       "1    Vie quotidienne à Bruges, 1940-1945. - 8 photos     241.0   \n",
       "2  Libération de Verviers par les alliés, 9/1944....    1764.0   \n",
       "3  Libération de Verviers par les alliés, 9/1944....    1764.0   \n",
       "4  Libération de Verviers par les alliés, 9/1944....    1764.0   \n",
       "\n",
       "                                             keyword country_qid country_name  \\\n",
       "0                                    danse--belgique         Q31      Belgium   \n",
       "1                    vie pratique--brugge (belgique)         Q31      Belgium   \n",
       "2  verviers (belgique)--histoire--1944-1945 (libe...         Q31      Belgium   \n",
       "3  verviers (belgique)--histoire--1944-1945 (libe...         Q31      Belgium   \n",
       "4  verviers (belgique)--histoire--1944-1945 (libe...         Q31      Belgium   \n",
       "\n",
       "   loc_qid  loc_name  \n",
       "0      NaN       NaN  \n",
       "1   Q12994    Bruges  \n",
       "2  Q202954  Verviers  \n",
       "3  Q202954  Verviers  \n",
       "4  Q202954  Verviers  "
      ]
     },
     "execution_count": 14,
     "metadata": {},
     "output_type": "execute_result"
    }
   ],
   "source": [
    "data.head()"
   ]
  },
  {
   "cell_type": "code",
   "execution_count": 15,
   "metadata": {
    "ExecuteTime": {
     "end_time": "2018-06-22T13:36:47.280990Z",
     "start_time": "2018-06-22T13:36:47.156600Z"
    },
    "hide_output": true,
    "run_control": {
     "marked": false
    }
   },
   "outputs": [],
   "source": [
    "# Merge with NER_classes (spatial_keys matched with wikidata)\n",
    "ner_classes = pd.read_csv(\"data/ner_classes.csv\")\n",
    "\n",
    "data = pd.merge(data, ner_classes, how='left', left_on = ['spatial_key'], right_on = ['ner_class'])"
   ]
  },
  {
   "cell_type": "code",
   "execution_count": 16,
   "metadata": {
    "ExecuteTime": {
     "end_time": "2018-06-22T13:36:47.400902Z",
     "start_time": "2018-06-22T13:36:47.281971Z"
    }
   },
   "outputs": [
    {
     "data": {
      "text/html": [
       "<div>\n",
       "<style scoped>\n",
       "    .dataframe tbody tr th:only-of-type {\n",
       "        vertical-align: middle;\n",
       "    }\n",
       "\n",
       "    .dataframe tbody tr th {\n",
       "        vertical-align: top;\n",
       "    }\n",
       "\n",
       "    .dataframe thead th {\n",
       "        text-align: right;\n",
       "    }\n",
       "</style>\n",
       "<table border=\"1\" class=\"dataframe\">\n",
       "  <thead>\n",
       "    <tr style=\"text-align: right;\">\n",
       "      <th></th>\n",
       "      <th>beeldid</th>\n",
       "      <th>spatial_key</th>\n",
       "      <th>spatial_value</th>\n",
       "      <th>lien_phototheque</th>\n",
       "      <th>LEGEND</th>\n",
       "      <th>BPALLASF</th>\n",
       "      <th>trfwnumm</th>\n",
       "      <th>keyword</th>\n",
       "      <th>country_qid</th>\n",
       "      <th>country_name</th>\n",
       "      <th>loc_qid</th>\n",
       "      <th>loc_name</th>\n",
       "      <th>ner_class</th>\n",
       "      <th>wiki_qid</th>\n",
       "      <th>wiki_class</th>\n",
       "    </tr>\n",
       "  </thead>\n",
       "  <tbody>\n",
       "    <tr>\n",
       "      <th>0</th>\n",
       "      <td>00038225</td>\n",
       "      <td>LOC_BUILDING</td>\n",
       "      <td>Lycée Commun , d' Ixelles</td>\n",
       "      <td>http://pallas.cegesoma.be/pls/opac/opac.search...</td>\n",
       "      <td>Les élèves du Lycée Commun, d'Ixelles se repos...</td>\n",
       "      <td>Danse, cirque, variétés et théâtre : [1936-193...</td>\n",
       "      <td>4349.0</td>\n",
       "      <td>danse--belgique</td>\n",
       "      <td>Q31</td>\n",
       "      <td>Belgium</td>\n",
       "      <td>NaN</td>\n",
       "      <td>NaN</td>\n",
       "      <td>LOC_BUILDING</td>\n",
       "      <td>Q41176</td>\n",
       "      <td>building</td>\n",
       "    </tr>\n",
       "    <tr>\n",
       "      <th>1</th>\n",
       "      <td>00005881</td>\n",
       "      <td>LOC_PLACE</td>\n",
       "      <td>Bruges</td>\n",
       "      <td>http://pallas.cegesoma.be/pls/opac/opac.search...</td>\n",
       "      <td>Ravitaillement à Bruges. [foto Huis Van Eyck]</td>\n",
       "      <td>Vie quotidienne à Bruges, 1940-1945. - 8 photos</td>\n",
       "      <td>241.0</td>\n",
       "      <td>vie pratique--brugge (belgique)</td>\n",
       "      <td>Q31</td>\n",
       "      <td>Belgium</td>\n",
       "      <td>Q12994</td>\n",
       "      <td>Bruges</td>\n",
       "      <td>LOC_PLACE</td>\n",
       "      <td>Q56061</td>\n",
       "      <td>administrative territorial entity</td>\n",
       "    </tr>\n",
       "    <tr>\n",
       "      <th>2</th>\n",
       "      <td>00029746</td>\n",
       "      <td>LOC_PLACE</td>\n",
       "      <td>Verviers</td>\n",
       "      <td>http://pallas.cegesoma.be/pls/opac/opac.search...</td>\n",
       "      <td>Jour de la libération de Verviers. Le Palais d...</td>\n",
       "      <td>Libération de Verviers par les alliés, 9/1944....</td>\n",
       "      <td>1764.0</td>\n",
       "      <td>verviers (belgique)--histoire--1944-1945 (libe...</td>\n",
       "      <td>Q31</td>\n",
       "      <td>Belgium</td>\n",
       "      <td>Q202954</td>\n",
       "      <td>Verviers</td>\n",
       "      <td>LOC_PLACE</td>\n",
       "      <td>Q56061</td>\n",
       "      <td>administrative territorial entity</td>\n",
       "    </tr>\n",
       "    <tr>\n",
       "      <th>3</th>\n",
       "      <td>00029746</td>\n",
       "      <td>LOC_BUILDING</td>\n",
       "      <td>Le Palais de Justice</td>\n",
       "      <td>http://pallas.cegesoma.be/pls/opac/opac.search...</td>\n",
       "      <td>Jour de la libération de Verviers. Le Palais d...</td>\n",
       "      <td>Libération de Verviers par les alliés, 9/1944....</td>\n",
       "      <td>1764.0</td>\n",
       "      <td>verviers (belgique)--histoire--1944-1945 (libe...</td>\n",
       "      <td>Q31</td>\n",
       "      <td>Belgium</td>\n",
       "      <td>Q202954</td>\n",
       "      <td>Verviers</td>\n",
       "      <td>LOC_BUILDING</td>\n",
       "      <td>Q41176</td>\n",
       "      <td>building</td>\n",
       "    </tr>\n",
       "    <tr>\n",
       "      <th>4</th>\n",
       "      <td>00029746</td>\n",
       "      <td>LOC_PLACE</td>\n",
       "      <td>Verviers</td>\n",
       "      <td>http://pallas.cegesoma.be/pls/opac/opac.search...</td>\n",
       "      <td>Jour de la libération de Verviers. Le Palais d...</td>\n",
       "      <td>Libération de Verviers par les alliés, 9/1944....</td>\n",
       "      <td>1764.0</td>\n",
       "      <td>verviers (belgique)--histoire--1944-1945 (libe...</td>\n",
       "      <td>Q31</td>\n",
       "      <td>Belgium</td>\n",
       "      <td>Q202954</td>\n",
       "      <td>Verviers</td>\n",
       "      <td>LOC_PLACE</td>\n",
       "      <td>Q56061</td>\n",
       "      <td>administrative territorial entity</td>\n",
       "    </tr>\n",
       "  </tbody>\n",
       "</table>\n",
       "</div>"
      ],
      "text/plain": [
       "    beeldid   spatial_key              spatial_value  \\\n",
       "0  00038225  LOC_BUILDING  Lycée Commun , d' Ixelles   \n",
       "1  00005881     LOC_PLACE                     Bruges   \n",
       "2  00029746     LOC_PLACE                   Verviers   \n",
       "3  00029746  LOC_BUILDING       Le Palais de Justice   \n",
       "4  00029746     LOC_PLACE                   Verviers   \n",
       "\n",
       "                                    lien_phototheque  \\\n",
       "0  http://pallas.cegesoma.be/pls/opac/opac.search...   \n",
       "1  http://pallas.cegesoma.be/pls/opac/opac.search...   \n",
       "2  http://pallas.cegesoma.be/pls/opac/opac.search...   \n",
       "3  http://pallas.cegesoma.be/pls/opac/opac.search...   \n",
       "4  http://pallas.cegesoma.be/pls/opac/opac.search...   \n",
       "\n",
       "                                              LEGEND  \\\n",
       "0  Les élèves du Lycée Commun, d'Ixelles se repos...   \n",
       "1      Ravitaillement à Bruges. [foto Huis Van Eyck]   \n",
       "2  Jour de la libération de Verviers. Le Palais d...   \n",
       "3  Jour de la libération de Verviers. Le Palais d...   \n",
       "4  Jour de la libération de Verviers. Le Palais d...   \n",
       "\n",
       "                                            BPALLASF  trfwnumm  \\\n",
       "0  Danse, cirque, variétés et théâtre : [1936-193...    4349.0   \n",
       "1    Vie quotidienne à Bruges, 1940-1945. - 8 photos     241.0   \n",
       "2  Libération de Verviers par les alliés, 9/1944....    1764.0   \n",
       "3  Libération de Verviers par les alliés, 9/1944....    1764.0   \n",
       "4  Libération de Verviers par les alliés, 9/1944....    1764.0   \n",
       "\n",
       "                                             keyword country_qid country_name  \\\n",
       "0                                    danse--belgique         Q31      Belgium   \n",
       "1                    vie pratique--brugge (belgique)         Q31      Belgium   \n",
       "2  verviers (belgique)--histoire--1944-1945 (libe...         Q31      Belgium   \n",
       "3  verviers (belgique)--histoire--1944-1945 (libe...         Q31      Belgium   \n",
       "4  verviers (belgique)--histoire--1944-1945 (libe...         Q31      Belgium   \n",
       "\n",
       "   loc_qid  loc_name     ner_class wiki_qid                         wiki_class  \n",
       "0      NaN       NaN  LOC_BUILDING   Q41176                           building  \n",
       "1   Q12994    Bruges     LOC_PLACE   Q56061  administrative territorial entity  \n",
       "2  Q202954  Verviers     LOC_PLACE   Q56061  administrative territorial entity  \n",
       "3  Q202954  Verviers  LOC_BUILDING   Q41176                           building  \n",
       "4  Q202954  Verviers     LOC_PLACE   Q56061  administrative territorial entity  "
      ]
     },
     "execution_count": 16,
     "metadata": {},
     "output_type": "execute_result"
    }
   ],
   "source": [
    "data.head()"
   ]
  },
  {
   "cell_type": "code",
   "execution_count": 17,
   "metadata": {
    "ExecuteTime": {
     "end_time": "2018-06-22T13:36:47.511928Z",
     "start_time": "2018-06-22T13:36:47.401902Z"
    },
    "hide_output": true,
    "run_control": {
     "marked": false
    },
    "scrolled": true
   },
   "outputs": [],
   "source": [
    "# rename the new columns merged\n",
    "data.rename(columns={'wiki_qid': 'ner_class_qid', 'wiki_class':'ner_class_name'}, inplace=True)"
   ]
  },
  {
   "cell_type": "code",
   "execution_count": 18,
   "metadata": {
    "ExecuteTime": {
     "end_time": "2018-06-22T13:36:47.659195Z",
     "start_time": "2018-06-22T13:36:47.512900Z"
    }
   },
   "outputs": [
    {
     "data": {
      "text/html": [
       "<div>\n",
       "<style scoped>\n",
       "    .dataframe tbody tr th:only-of-type {\n",
       "        vertical-align: middle;\n",
       "    }\n",
       "\n",
       "    .dataframe tbody tr th {\n",
       "        vertical-align: top;\n",
       "    }\n",
       "\n",
       "    .dataframe thead th {\n",
       "        text-align: right;\n",
       "    }\n",
       "</style>\n",
       "<table border=\"1\" class=\"dataframe\">\n",
       "  <thead>\n",
       "    <tr style=\"text-align: right;\">\n",
       "      <th></th>\n",
       "      <th>beeldid</th>\n",
       "      <th>spatial_key</th>\n",
       "      <th>spatial_value</th>\n",
       "      <th>lien_phototheque</th>\n",
       "      <th>LEGEND</th>\n",
       "      <th>BPALLASF</th>\n",
       "      <th>trfwnumm</th>\n",
       "      <th>keyword</th>\n",
       "      <th>country_qid</th>\n",
       "      <th>country_name</th>\n",
       "      <th>loc_qid</th>\n",
       "      <th>loc_name</th>\n",
       "      <th>ner_class</th>\n",
       "      <th>ner_class_qid</th>\n",
       "      <th>ner_class_name</th>\n",
       "    </tr>\n",
       "  </thead>\n",
       "  <tbody>\n",
       "    <tr>\n",
       "      <th>0</th>\n",
       "      <td>00038225</td>\n",
       "      <td>LOC_BUILDING</td>\n",
       "      <td>Lycée Commun , d' Ixelles</td>\n",
       "      <td>http://pallas.cegesoma.be/pls/opac/opac.search...</td>\n",
       "      <td>Les élèves du Lycée Commun, d'Ixelles se repos...</td>\n",
       "      <td>Danse, cirque, variétés et théâtre : [1936-193...</td>\n",
       "      <td>4349.0</td>\n",
       "      <td>danse--belgique</td>\n",
       "      <td>Q31</td>\n",
       "      <td>Belgium</td>\n",
       "      <td>NaN</td>\n",
       "      <td>NaN</td>\n",
       "      <td>LOC_BUILDING</td>\n",
       "      <td>Q41176</td>\n",
       "      <td>building</td>\n",
       "    </tr>\n",
       "    <tr>\n",
       "      <th>1</th>\n",
       "      <td>00005881</td>\n",
       "      <td>LOC_PLACE</td>\n",
       "      <td>Bruges</td>\n",
       "      <td>http://pallas.cegesoma.be/pls/opac/opac.search...</td>\n",
       "      <td>Ravitaillement à Bruges. [foto Huis Van Eyck]</td>\n",
       "      <td>Vie quotidienne à Bruges, 1940-1945. - 8 photos</td>\n",
       "      <td>241.0</td>\n",
       "      <td>vie pratique--brugge (belgique)</td>\n",
       "      <td>Q31</td>\n",
       "      <td>Belgium</td>\n",
       "      <td>Q12994</td>\n",
       "      <td>Bruges</td>\n",
       "      <td>LOC_PLACE</td>\n",
       "      <td>Q56061</td>\n",
       "      <td>administrative territorial entity</td>\n",
       "    </tr>\n",
       "    <tr>\n",
       "      <th>2</th>\n",
       "      <td>00029746</td>\n",
       "      <td>LOC_PLACE</td>\n",
       "      <td>Verviers</td>\n",
       "      <td>http://pallas.cegesoma.be/pls/opac/opac.search...</td>\n",
       "      <td>Jour de la libération de Verviers. Le Palais d...</td>\n",
       "      <td>Libération de Verviers par les alliés, 9/1944....</td>\n",
       "      <td>1764.0</td>\n",
       "      <td>verviers (belgique)--histoire--1944-1945 (libe...</td>\n",
       "      <td>Q31</td>\n",
       "      <td>Belgium</td>\n",
       "      <td>Q202954</td>\n",
       "      <td>Verviers</td>\n",
       "      <td>LOC_PLACE</td>\n",
       "      <td>Q56061</td>\n",
       "      <td>administrative territorial entity</td>\n",
       "    </tr>\n",
       "    <tr>\n",
       "      <th>3</th>\n",
       "      <td>00029746</td>\n",
       "      <td>LOC_BUILDING</td>\n",
       "      <td>Le Palais de Justice</td>\n",
       "      <td>http://pallas.cegesoma.be/pls/opac/opac.search...</td>\n",
       "      <td>Jour de la libération de Verviers. Le Palais d...</td>\n",
       "      <td>Libération de Verviers par les alliés, 9/1944....</td>\n",
       "      <td>1764.0</td>\n",
       "      <td>verviers (belgique)--histoire--1944-1945 (libe...</td>\n",
       "      <td>Q31</td>\n",
       "      <td>Belgium</td>\n",
       "      <td>Q202954</td>\n",
       "      <td>Verviers</td>\n",
       "      <td>LOC_BUILDING</td>\n",
       "      <td>Q41176</td>\n",
       "      <td>building</td>\n",
       "    </tr>\n",
       "    <tr>\n",
       "      <th>4</th>\n",
       "      <td>00029746</td>\n",
       "      <td>LOC_PLACE</td>\n",
       "      <td>Verviers</td>\n",
       "      <td>http://pallas.cegesoma.be/pls/opac/opac.search...</td>\n",
       "      <td>Jour de la libération de Verviers. Le Palais d...</td>\n",
       "      <td>Libération de Verviers par les alliés, 9/1944....</td>\n",
       "      <td>1764.0</td>\n",
       "      <td>verviers (belgique)--histoire--1944-1945 (libe...</td>\n",
       "      <td>Q31</td>\n",
       "      <td>Belgium</td>\n",
       "      <td>Q202954</td>\n",
       "      <td>Verviers</td>\n",
       "      <td>LOC_PLACE</td>\n",
       "      <td>Q56061</td>\n",
       "      <td>administrative territorial entity</td>\n",
       "    </tr>\n",
       "  </tbody>\n",
       "</table>\n",
       "</div>"
      ],
      "text/plain": [
       "    beeldid   spatial_key              spatial_value  \\\n",
       "0  00038225  LOC_BUILDING  Lycée Commun , d' Ixelles   \n",
       "1  00005881     LOC_PLACE                     Bruges   \n",
       "2  00029746     LOC_PLACE                   Verviers   \n",
       "3  00029746  LOC_BUILDING       Le Palais de Justice   \n",
       "4  00029746     LOC_PLACE                   Verviers   \n",
       "\n",
       "                                    lien_phototheque  \\\n",
       "0  http://pallas.cegesoma.be/pls/opac/opac.search...   \n",
       "1  http://pallas.cegesoma.be/pls/opac/opac.search...   \n",
       "2  http://pallas.cegesoma.be/pls/opac/opac.search...   \n",
       "3  http://pallas.cegesoma.be/pls/opac/opac.search...   \n",
       "4  http://pallas.cegesoma.be/pls/opac/opac.search...   \n",
       "\n",
       "                                              LEGEND  \\\n",
       "0  Les élèves du Lycée Commun, d'Ixelles se repos...   \n",
       "1      Ravitaillement à Bruges. [foto Huis Van Eyck]   \n",
       "2  Jour de la libération de Verviers. Le Palais d...   \n",
       "3  Jour de la libération de Verviers. Le Palais d...   \n",
       "4  Jour de la libération de Verviers. Le Palais d...   \n",
       "\n",
       "                                            BPALLASF  trfwnumm  \\\n",
       "0  Danse, cirque, variétés et théâtre : [1936-193...    4349.0   \n",
       "1    Vie quotidienne à Bruges, 1940-1945. - 8 photos     241.0   \n",
       "2  Libération de Verviers par les alliés, 9/1944....    1764.0   \n",
       "3  Libération de Verviers par les alliés, 9/1944....    1764.0   \n",
       "4  Libération de Verviers par les alliés, 9/1944....    1764.0   \n",
       "\n",
       "                                             keyword country_qid country_name  \\\n",
       "0                                    danse--belgique         Q31      Belgium   \n",
       "1                    vie pratique--brugge (belgique)         Q31      Belgium   \n",
       "2  verviers (belgique)--histoire--1944-1945 (libe...         Q31      Belgium   \n",
       "3  verviers (belgique)--histoire--1944-1945 (libe...         Q31      Belgium   \n",
       "4  verviers (belgique)--histoire--1944-1945 (libe...         Q31      Belgium   \n",
       "\n",
       "   loc_qid  loc_name     ner_class ner_class_qid  \\\n",
       "0      NaN       NaN  LOC_BUILDING        Q41176   \n",
       "1   Q12994    Bruges     LOC_PLACE        Q56061   \n",
       "2  Q202954  Verviers     LOC_PLACE        Q56061   \n",
       "3  Q202954  Verviers  LOC_BUILDING        Q41176   \n",
       "4  Q202954  Verviers     LOC_PLACE        Q56061   \n",
       "\n",
       "                      ner_class_name  \n",
       "0                           building  \n",
       "1  administrative territorial entity  \n",
       "2  administrative territorial entity  \n",
       "3                           building  \n",
       "4  administrative territorial entity  "
      ]
     },
     "execution_count": 18,
     "metadata": {},
     "output_type": "execute_result"
    }
   ],
   "source": [
    "data.head()"
   ]
  },
  {
   "cell_type": "code",
   "execution_count": 19,
   "metadata": {
    "ExecuteTime": {
     "end_time": "2018-06-22T13:36:47.788377Z",
     "start_time": "2018-06-22T13:36:47.660194Z"
    },
    "hide_output": true,
    "run_control": {
     "marked": false
    }
   },
   "outputs": [],
   "source": [
    "# remove articles in spatial_value\n",
    "data['spatial_value'] = data['spatial_value'].str.replace(pat=r\"^\\s?(le|la|l\\s+'|l'|les)\\s+\", repl=\"\", n=1, case=False)"
   ]
  },
  {
   "cell_type": "code",
   "execution_count": 20,
   "metadata": {
    "ExecuteTime": {
     "end_time": "2018-06-22T13:36:47.960194Z",
     "start_time": "2018-06-22T13:36:47.789373Z"
    },
    "hide_output": true,
    "run_control": {
     "marked": false
    }
   },
   "outputs": [],
   "source": [
    "#data.to_csv(r\"C:\\Users\\ettor\\Desktop\\data_ugesco.csv\", header=True, index=False, encoding=\"utf-8\")"
   ]
  },
  {
   "cell_type": "code",
   "execution_count": 21,
   "metadata": {
    "ExecuteTime": {
     "end_time": "2018-06-22T13:36:48.076608Z",
     "start_time": "2018-06-22T13:36:47.961175Z"
    }
   },
   "outputs": [
    {
     "data": {
      "text/html": [
       "<div>\n",
       "<style scoped>\n",
       "    .dataframe tbody tr th:only-of-type {\n",
       "        vertical-align: middle;\n",
       "    }\n",
       "\n",
       "    .dataframe tbody tr th {\n",
       "        vertical-align: top;\n",
       "    }\n",
       "\n",
       "    .dataframe thead th {\n",
       "        text-align: right;\n",
       "    }\n",
       "</style>\n",
       "<table border=\"1\" class=\"dataframe\">\n",
       "  <thead>\n",
       "    <tr style=\"text-align: right;\">\n",
       "      <th></th>\n",
       "      <th>beeldid</th>\n",
       "      <th>spatial_key</th>\n",
       "      <th>spatial_value</th>\n",
       "      <th>lien_phototheque</th>\n",
       "      <th>LEGEND</th>\n",
       "      <th>BPALLASF</th>\n",
       "      <th>trfwnumm</th>\n",
       "      <th>keyword</th>\n",
       "      <th>country_qid</th>\n",
       "      <th>country_name</th>\n",
       "      <th>loc_qid</th>\n",
       "      <th>loc_name</th>\n",
       "      <th>ner_class</th>\n",
       "      <th>ner_class_qid</th>\n",
       "      <th>ner_class_name</th>\n",
       "    </tr>\n",
       "  </thead>\n",
       "  <tbody>\n",
       "    <tr>\n",
       "      <th>0</th>\n",
       "      <td>00038225</td>\n",
       "      <td>LOC_BUILDING</td>\n",
       "      <td>Lycée Commun , d' Ixelles</td>\n",
       "      <td>http://pallas.cegesoma.be/pls/opac/opac.search...</td>\n",
       "      <td>Les élèves du Lycée Commun, d'Ixelles se repos...</td>\n",
       "      <td>Danse, cirque, variétés et théâtre : [1936-193...</td>\n",
       "      <td>4349.0</td>\n",
       "      <td>danse--belgique</td>\n",
       "      <td>Q31</td>\n",
       "      <td>Belgium</td>\n",
       "      <td>NaN</td>\n",
       "      <td>NaN</td>\n",
       "      <td>LOC_BUILDING</td>\n",
       "      <td>Q41176</td>\n",
       "      <td>building</td>\n",
       "    </tr>\n",
       "    <tr>\n",
       "      <th>1</th>\n",
       "      <td>00005881</td>\n",
       "      <td>LOC_PLACE</td>\n",
       "      <td>Bruges</td>\n",
       "      <td>http://pallas.cegesoma.be/pls/opac/opac.search...</td>\n",
       "      <td>Ravitaillement à Bruges. [foto Huis Van Eyck]</td>\n",
       "      <td>Vie quotidienne à Bruges, 1940-1945. - 8 photos</td>\n",
       "      <td>241.0</td>\n",
       "      <td>vie pratique--brugge (belgique)</td>\n",
       "      <td>Q31</td>\n",
       "      <td>Belgium</td>\n",
       "      <td>Q12994</td>\n",
       "      <td>Bruges</td>\n",
       "      <td>LOC_PLACE</td>\n",
       "      <td>Q56061</td>\n",
       "      <td>administrative territorial entity</td>\n",
       "    </tr>\n",
       "    <tr>\n",
       "      <th>2</th>\n",
       "      <td>00029746</td>\n",
       "      <td>LOC_PLACE</td>\n",
       "      <td>Verviers</td>\n",
       "      <td>http://pallas.cegesoma.be/pls/opac/opac.search...</td>\n",
       "      <td>Jour de la libération de Verviers. Le Palais d...</td>\n",
       "      <td>Libération de Verviers par les alliés, 9/1944....</td>\n",
       "      <td>1764.0</td>\n",
       "      <td>verviers (belgique)--histoire--1944-1945 (libe...</td>\n",
       "      <td>Q31</td>\n",
       "      <td>Belgium</td>\n",
       "      <td>Q202954</td>\n",
       "      <td>Verviers</td>\n",
       "      <td>LOC_PLACE</td>\n",
       "      <td>Q56061</td>\n",
       "      <td>administrative territorial entity</td>\n",
       "    </tr>\n",
       "    <tr>\n",
       "      <th>3</th>\n",
       "      <td>00029746</td>\n",
       "      <td>LOC_BUILDING</td>\n",
       "      <td>Palais de Justice</td>\n",
       "      <td>http://pallas.cegesoma.be/pls/opac/opac.search...</td>\n",
       "      <td>Jour de la libération de Verviers. Le Palais d...</td>\n",
       "      <td>Libération de Verviers par les alliés, 9/1944....</td>\n",
       "      <td>1764.0</td>\n",
       "      <td>verviers (belgique)--histoire--1944-1945 (libe...</td>\n",
       "      <td>Q31</td>\n",
       "      <td>Belgium</td>\n",
       "      <td>Q202954</td>\n",
       "      <td>Verviers</td>\n",
       "      <td>LOC_BUILDING</td>\n",
       "      <td>Q41176</td>\n",
       "      <td>building</td>\n",
       "    </tr>\n",
       "    <tr>\n",
       "      <th>4</th>\n",
       "      <td>00029746</td>\n",
       "      <td>LOC_PLACE</td>\n",
       "      <td>Verviers</td>\n",
       "      <td>http://pallas.cegesoma.be/pls/opac/opac.search...</td>\n",
       "      <td>Jour de la libération de Verviers. Le Palais d...</td>\n",
       "      <td>Libération de Verviers par les alliés, 9/1944....</td>\n",
       "      <td>1764.0</td>\n",
       "      <td>verviers (belgique)--histoire--1944-1945 (libe...</td>\n",
       "      <td>Q31</td>\n",
       "      <td>Belgium</td>\n",
       "      <td>Q202954</td>\n",
       "      <td>Verviers</td>\n",
       "      <td>LOC_PLACE</td>\n",
       "      <td>Q56061</td>\n",
       "      <td>administrative territorial entity</td>\n",
       "    </tr>\n",
       "  </tbody>\n",
       "</table>\n",
       "</div>"
      ],
      "text/plain": [
       "    beeldid   spatial_key              spatial_value  \\\n",
       "0  00038225  LOC_BUILDING  Lycée Commun , d' Ixelles   \n",
       "1  00005881     LOC_PLACE                     Bruges   \n",
       "2  00029746     LOC_PLACE                   Verviers   \n",
       "3  00029746  LOC_BUILDING          Palais de Justice   \n",
       "4  00029746     LOC_PLACE                   Verviers   \n",
       "\n",
       "                                    lien_phototheque  \\\n",
       "0  http://pallas.cegesoma.be/pls/opac/opac.search...   \n",
       "1  http://pallas.cegesoma.be/pls/opac/opac.search...   \n",
       "2  http://pallas.cegesoma.be/pls/opac/opac.search...   \n",
       "3  http://pallas.cegesoma.be/pls/opac/opac.search...   \n",
       "4  http://pallas.cegesoma.be/pls/opac/opac.search...   \n",
       "\n",
       "                                              LEGEND  \\\n",
       "0  Les élèves du Lycée Commun, d'Ixelles se repos...   \n",
       "1      Ravitaillement à Bruges. [foto Huis Van Eyck]   \n",
       "2  Jour de la libération de Verviers. Le Palais d...   \n",
       "3  Jour de la libération de Verviers. Le Palais d...   \n",
       "4  Jour de la libération de Verviers. Le Palais d...   \n",
       "\n",
       "                                            BPALLASF  trfwnumm  \\\n",
       "0  Danse, cirque, variétés et théâtre : [1936-193...    4349.0   \n",
       "1    Vie quotidienne à Bruges, 1940-1945. - 8 photos     241.0   \n",
       "2  Libération de Verviers par les alliés, 9/1944....    1764.0   \n",
       "3  Libération de Verviers par les alliés, 9/1944....    1764.0   \n",
       "4  Libération de Verviers par les alliés, 9/1944....    1764.0   \n",
       "\n",
       "                                             keyword country_qid country_name  \\\n",
       "0                                    danse--belgique         Q31      Belgium   \n",
       "1                    vie pratique--brugge (belgique)         Q31      Belgium   \n",
       "2  verviers (belgique)--histoire--1944-1945 (libe...         Q31      Belgium   \n",
       "3  verviers (belgique)--histoire--1944-1945 (libe...         Q31      Belgium   \n",
       "4  verviers (belgique)--histoire--1944-1945 (libe...         Q31      Belgium   \n",
       "\n",
       "   loc_qid  loc_name     ner_class ner_class_qid  \\\n",
       "0      NaN       NaN  LOC_BUILDING        Q41176   \n",
       "1   Q12994    Bruges     LOC_PLACE        Q56061   \n",
       "2  Q202954  Verviers     LOC_PLACE        Q56061   \n",
       "3  Q202954  Verviers  LOC_BUILDING        Q41176   \n",
       "4  Q202954  Verviers     LOC_PLACE        Q56061   \n",
       "\n",
       "                      ner_class_name  \n",
       "0                           building  \n",
       "1  administrative territorial entity  \n",
       "2  administrative territorial entity  \n",
       "3                           building  \n",
       "4  administrative territorial entity  "
      ]
     },
     "execution_count": 21,
     "metadata": {},
     "output_type": "execute_result"
    }
   ],
   "source": [
    "data.head()"
   ]
  },
  {
   "cell_type": "code",
   "execution_count": 22,
   "metadata": {
    "ExecuteTime": {
     "end_time": "2018-06-22T13:36:48.194651Z",
     "start_time": "2018-06-22T13:36:48.077608Z"
    },
    "run_control": {
     "marked": false
    }
   },
   "outputs": [],
   "source": [
    "gb = data.groupby(['beeldid'])"
   ]
  },
  {
   "cell_type": "code",
   "execution_count": 28,
   "metadata": {
    "ExecuteTime": {
     "end_time": "2018-06-22T13:46:39.366671Z",
     "start_time": "2018-06-22T13:46:39.346682Z"
    }
   },
   "outputs": [
    {
     "data": {
      "text/html": [
       "<div>\n",
       "<style scoped>\n",
       "    .dataframe tbody tr th:only-of-type {\n",
       "        vertical-align: middle;\n",
       "    }\n",
       "\n",
       "    .dataframe tbody tr th {\n",
       "        vertical-align: top;\n",
       "    }\n",
       "\n",
       "    .dataframe thead th {\n",
       "        text-align: right;\n",
       "    }\n",
       "</style>\n",
       "<table border=\"1\" class=\"dataframe\">\n",
       "  <thead>\n",
       "    <tr style=\"text-align: right;\">\n",
       "      <th></th>\n",
       "      <th>beeldid</th>\n",
       "      <th>spatial_key</th>\n",
       "      <th>spatial_value</th>\n",
       "      <th>lien_phototheque</th>\n",
       "      <th>LEGEND</th>\n",
       "      <th>BPALLASF</th>\n",
       "      <th>trfwnumm</th>\n",
       "      <th>keyword</th>\n",
       "      <th>country_qid</th>\n",
       "      <th>country_name</th>\n",
       "      <th>loc_qid</th>\n",
       "      <th>loc_name</th>\n",
       "      <th>ner_class</th>\n",
       "      <th>ner_class_qid</th>\n",
       "      <th>ner_class_name</th>\n",
       "    </tr>\n",
       "  </thead>\n",
       "  <tbody>\n",
       "    <tr>\n",
       "      <th>0</th>\n",
       "      <td>00038225</td>\n",
       "      <td>LOC_BUILDING</td>\n",
       "      <td>Lycée Commun , d' Ixelles</td>\n",
       "      <td>http://pallas.cegesoma.be/pls/opac/opac.search...</td>\n",
       "      <td>Les élèves du Lycée Commun, d'Ixelles se repos...</td>\n",
       "      <td>Danse, cirque, variétés et théâtre : [1936-193...</td>\n",
       "      <td>4349.0</td>\n",
       "      <td>danse--belgique</td>\n",
       "      <td>Q31</td>\n",
       "      <td>Belgium</td>\n",
       "      <td>NaN</td>\n",
       "      <td>NaN</td>\n",
       "      <td>LOC_BUILDING</td>\n",
       "      <td>Q41176</td>\n",
       "      <td>building</td>\n",
       "    </tr>\n",
       "    <tr>\n",
       "      <th>1</th>\n",
       "      <td>00005881</td>\n",
       "      <td>LOC_PLACE</td>\n",
       "      <td>Bruges</td>\n",
       "      <td>http://pallas.cegesoma.be/pls/opac/opac.search...</td>\n",
       "      <td>Ravitaillement à Bruges. [foto Huis Van Eyck]</td>\n",
       "      <td>Vie quotidienne à Bruges, 1940-1945. - 8 photos</td>\n",
       "      <td>241.0</td>\n",
       "      <td>vie pratique--brugge (belgique)</td>\n",
       "      <td>Q31</td>\n",
       "      <td>Belgium</td>\n",
       "      <td>Q12994</td>\n",
       "      <td>Bruges</td>\n",
       "      <td>LOC_PLACE</td>\n",
       "      <td>Q56061</td>\n",
       "      <td>administrative territorial entity</td>\n",
       "    </tr>\n",
       "    <tr>\n",
       "      <th>2</th>\n",
       "      <td>00029746</td>\n",
       "      <td>LOC_PLACE</td>\n",
       "      <td>Verviers</td>\n",
       "      <td>http://pallas.cegesoma.be/pls/opac/opac.search...</td>\n",
       "      <td>Jour de la libération de Verviers. Le Palais d...</td>\n",
       "      <td>Libération de Verviers par les alliés, 9/1944....</td>\n",
       "      <td>1764.0</td>\n",
       "      <td>verviers (belgique)--histoire--1944-1945 (libe...</td>\n",
       "      <td>Q31</td>\n",
       "      <td>Belgium</td>\n",
       "      <td>Q202954</td>\n",
       "      <td>Verviers</td>\n",
       "      <td>LOC_PLACE</td>\n",
       "      <td>Q56061</td>\n",
       "      <td>administrative territorial entity</td>\n",
       "    </tr>\n",
       "    <tr>\n",
       "      <th>3</th>\n",
       "      <td>00029746</td>\n",
       "      <td>LOC_BUILDING</td>\n",
       "      <td>Palais de Justice</td>\n",
       "      <td>http://pallas.cegesoma.be/pls/opac/opac.search...</td>\n",
       "      <td>Jour de la libération de Verviers. Le Palais d...</td>\n",
       "      <td>Libération de Verviers par les alliés, 9/1944....</td>\n",
       "      <td>1764.0</td>\n",
       "      <td>verviers (belgique)--histoire--1944-1945 (libe...</td>\n",
       "      <td>Q31</td>\n",
       "      <td>Belgium</td>\n",
       "      <td>Q202954</td>\n",
       "      <td>Verviers</td>\n",
       "      <td>LOC_BUILDING</td>\n",
       "      <td>Q41176</td>\n",
       "      <td>building</td>\n",
       "    </tr>\n",
       "    <tr>\n",
       "      <th>4</th>\n",
       "      <td>00029746</td>\n",
       "      <td>LOC_PLACE</td>\n",
       "      <td>Verviers</td>\n",
       "      <td>http://pallas.cegesoma.be/pls/opac/opac.search...</td>\n",
       "      <td>Jour de la libération de Verviers. Le Palais d...</td>\n",
       "      <td>Libération de Verviers par les alliés, 9/1944....</td>\n",
       "      <td>1764.0</td>\n",
       "      <td>verviers (belgique)--histoire--1944-1945 (libe...</td>\n",
       "      <td>Q31</td>\n",
       "      <td>Belgium</td>\n",
       "      <td>Q202954</td>\n",
       "      <td>Verviers</td>\n",
       "      <td>LOC_PLACE</td>\n",
       "      <td>Q56061</td>\n",
       "      <td>administrative territorial entity</td>\n",
       "    </tr>\n",
       "    <tr>\n",
       "      <th>5</th>\n",
       "      <td>00029795</td>\n",
       "      <td>LOC_BUILDING</td>\n",
       "      <td>hôtel de ville</td>\n",
       "      <td>http://pallas.cegesoma.be/pls/opac/opac.search...</td>\n",
       "      <td>Affiches de la libération (Harmonie badigeonné...</td>\n",
       "      <td>Libération de Verviers par les alliés, 9/1944....</td>\n",
       "      <td>1764.0</td>\n",
       "      <td>verviers (belgique)--histoire--1944-1945 (libe...</td>\n",
       "      <td>Q31</td>\n",
       "      <td>Belgium</td>\n",
       "      <td>Q202954</td>\n",
       "      <td>Verviers</td>\n",
       "      <td>LOC_BUILDING</td>\n",
       "      <td>Q41176</td>\n",
       "      <td>building</td>\n",
       "    </tr>\n",
       "    <tr>\n",
       "      <th>6</th>\n",
       "      <td>00029795</td>\n",
       "      <td>LOC_PLACE</td>\n",
       "      <td>Verviers</td>\n",
       "      <td>http://pallas.cegesoma.be/pls/opac/opac.search...</td>\n",
       "      <td>Affiches de la libération (Harmonie badigeonné...</td>\n",
       "      <td>Libération de Verviers par les alliés, 9/1944....</td>\n",
       "      <td>1764.0</td>\n",
       "      <td>verviers (belgique)--histoire--1944-1945 (libe...</td>\n",
       "      <td>Q31</td>\n",
       "      <td>Belgium</td>\n",
       "      <td>Q202954</td>\n",
       "      <td>Verviers</td>\n",
       "      <td>LOC_PLACE</td>\n",
       "      <td>Q56061</td>\n",
       "      <td>administrative territorial entity</td>\n",
       "    </tr>\n",
       "    <tr>\n",
       "      <th>7</th>\n",
       "      <td>00010703</td>\n",
       "      <td>LOC_PLACE</td>\n",
       "      <td>Malines</td>\n",
       "      <td>http://pallas.cegesoma.be/pls/opac/opac.search...</td>\n",
       "      <td>Enterrement tzigane au camp d'Elewijt près de ...</td>\n",
       "      <td>Funérailles d'un roi tsigane à Elewijt : 1940-...</td>\n",
       "      <td>716.0</td>\n",
       "      <td>guerre mondiale (1939-1945)--tsiganes--elewijt...</td>\n",
       "      <td>Q31</td>\n",
       "      <td>Belgium</td>\n",
       "      <td>Q1990353</td>\n",
       "      <td>Elewijt</td>\n",
       "      <td>LOC_PLACE</td>\n",
       "      <td>Q56061</td>\n",
       "      <td>administrative territorial entity</td>\n",
       "    </tr>\n",
       "  </tbody>\n",
       "</table>\n",
       "</div>"
      ],
      "text/plain": [
       "    beeldid   spatial_key              spatial_value  \\\n",
       "0  00038225  LOC_BUILDING  Lycée Commun , d' Ixelles   \n",
       "1  00005881     LOC_PLACE                     Bruges   \n",
       "2  00029746     LOC_PLACE                   Verviers   \n",
       "3  00029746  LOC_BUILDING          Palais de Justice   \n",
       "4  00029746     LOC_PLACE                   Verviers   \n",
       "5  00029795  LOC_BUILDING             hôtel de ville   \n",
       "6  00029795     LOC_PLACE                   Verviers   \n",
       "7  00010703     LOC_PLACE                    Malines   \n",
       "\n",
       "                                    lien_phototheque  \\\n",
       "0  http://pallas.cegesoma.be/pls/opac/opac.search...   \n",
       "1  http://pallas.cegesoma.be/pls/opac/opac.search...   \n",
       "2  http://pallas.cegesoma.be/pls/opac/opac.search...   \n",
       "3  http://pallas.cegesoma.be/pls/opac/opac.search...   \n",
       "4  http://pallas.cegesoma.be/pls/opac/opac.search...   \n",
       "5  http://pallas.cegesoma.be/pls/opac/opac.search...   \n",
       "6  http://pallas.cegesoma.be/pls/opac/opac.search...   \n",
       "7  http://pallas.cegesoma.be/pls/opac/opac.search...   \n",
       "\n",
       "                                              LEGEND  \\\n",
       "0  Les élèves du Lycée Commun, d'Ixelles se repos...   \n",
       "1      Ravitaillement à Bruges. [foto Huis Van Eyck]   \n",
       "2  Jour de la libération de Verviers. Le Palais d...   \n",
       "3  Jour de la libération de Verviers. Le Palais d...   \n",
       "4  Jour de la libération de Verviers. Le Palais d...   \n",
       "5  Affiches de la libération (Harmonie badigeonné...   \n",
       "6  Affiches de la libération (Harmonie badigeonné...   \n",
       "7  Enterrement tzigane au camp d'Elewijt près de ...   \n",
       "\n",
       "                                            BPALLASF  trfwnumm  \\\n",
       "0  Danse, cirque, variétés et théâtre : [1936-193...    4349.0   \n",
       "1    Vie quotidienne à Bruges, 1940-1945. - 8 photos     241.0   \n",
       "2  Libération de Verviers par les alliés, 9/1944....    1764.0   \n",
       "3  Libération de Verviers par les alliés, 9/1944....    1764.0   \n",
       "4  Libération de Verviers par les alliés, 9/1944....    1764.0   \n",
       "5  Libération de Verviers par les alliés, 9/1944....    1764.0   \n",
       "6  Libération de Verviers par les alliés, 9/1944....    1764.0   \n",
       "7  Funérailles d'un roi tsigane à Elewijt : 1940-...     716.0   \n",
       "\n",
       "                                             keyword country_qid country_name  \\\n",
       "0                                    danse--belgique         Q31      Belgium   \n",
       "1                    vie pratique--brugge (belgique)         Q31      Belgium   \n",
       "2  verviers (belgique)--histoire--1944-1945 (libe...         Q31      Belgium   \n",
       "3  verviers (belgique)--histoire--1944-1945 (libe...         Q31      Belgium   \n",
       "4  verviers (belgique)--histoire--1944-1945 (libe...         Q31      Belgium   \n",
       "5  verviers (belgique)--histoire--1944-1945 (libe...         Q31      Belgium   \n",
       "6  verviers (belgique)--histoire--1944-1945 (libe...         Q31      Belgium   \n",
       "7  guerre mondiale (1939-1945)--tsiganes--elewijt...         Q31      Belgium   \n",
       "\n",
       "    loc_qid  loc_name     ner_class ner_class_qid  \\\n",
       "0       NaN       NaN  LOC_BUILDING        Q41176   \n",
       "1    Q12994    Bruges     LOC_PLACE        Q56061   \n",
       "2   Q202954  Verviers     LOC_PLACE        Q56061   \n",
       "3   Q202954  Verviers  LOC_BUILDING        Q41176   \n",
       "4   Q202954  Verviers     LOC_PLACE        Q56061   \n",
       "5   Q202954  Verviers  LOC_BUILDING        Q41176   \n",
       "6   Q202954  Verviers     LOC_PLACE        Q56061   \n",
       "7  Q1990353   Elewijt     LOC_PLACE        Q56061   \n",
       "\n",
       "                      ner_class_name  \n",
       "0                           building  \n",
       "1  administrative territorial entity  \n",
       "2  administrative territorial entity  \n",
       "3                           building  \n",
       "4  administrative territorial entity  \n",
       "5                           building  \n",
       "6  administrative territorial entity  \n",
       "7  administrative territorial entity  "
      ]
     },
     "execution_count": 28,
     "metadata": {},
     "output_type": "execute_result"
    }
   ],
   "source": [
    "gb.head()"
   ]
  },
  {
   "cell_type": "code",
   "execution_count": 24,
   "metadata": {
    "ExecuteTime": {
     "end_time": "2018-06-22T13:36:48.624413Z",
     "start_time": "2018-06-22T13:36:48.328584Z"
    },
    "run_control": {
     "marked": false
    }
   },
   "outputs": [
    {
     "name": "stderr",
     "output_type": "stream",
     "text": [
      "D:\\Anaconda3\\lib\\site-packages\\_pytest\\fixtures.py:844: DeprecationWarning: The `convert` argument is deprecated in favor of `converter`.  It will be removed after 2019/01.\n",
      "  params = attr.ib(convert=attr.converters.optional(tuple))\n",
      "D:\\Anaconda3\\lib\\site-packages\\_pytest\\fixtures.py:846: DeprecationWarning: The `convert` argument is deprecated in favor of `converter`.  It will be removed after 2019/01.\n",
      "  ids = attr.ib(default=None, convert=_ensure_immutable_ids)\n"
     ]
    },
    {
     "ename": "KeyError",
     "evalue": "'00040082'",
     "output_type": "error",
     "traceback": [
      "\u001b[1;31m---------------------------------------------------------------------------\u001b[0m",
      "\u001b[1;31mKeyError\u001b[0m                                  Traceback (most recent call last)",
      "\u001b[1;32m<ipython-input-24-50afd3ab2af6>\u001b[0m in \u001b[0;36m<module>\u001b[1;34m()\u001b[0m\n\u001b[1;32m----> 1\u001b[1;33m \u001b[0mgb\u001b[0m\u001b[1;33m[\u001b[0m\u001b[1;34m\"spatial_value\"\u001b[0m\u001b[1;33m]\u001b[0m\u001b[1;33m.\u001b[0m\u001b[0mget_group\u001b[0m\u001b[1;33m(\u001b[0m\u001b[1;34m\"00040082\"\u001b[0m\u001b[1;33m)\u001b[0m \u001b[1;31m# attention : changer l'id lorsqu'on resample\u001b[0m\u001b[1;33m\u001b[0m\u001b[0m\n\u001b[0m",
      "\u001b[1;32mD:\\Anaconda3\\lib\\site-packages\\pandas\\core\\groupby.py\u001b[0m in \u001b[0;36mget_group\u001b[1;34m(self, name, obj)\u001b[0m\n\u001b[0;32m    763\u001b[0m         \u001b[0minds\u001b[0m \u001b[1;33m=\u001b[0m \u001b[0mself\u001b[0m\u001b[1;33m.\u001b[0m\u001b[0m_get_index\u001b[0m\u001b[1;33m(\u001b[0m\u001b[0mname\u001b[0m\u001b[1;33m)\u001b[0m\u001b[1;33m\u001b[0m\u001b[0m\n\u001b[0;32m    764\u001b[0m         \u001b[1;32mif\u001b[0m \u001b[1;32mnot\u001b[0m \u001b[0mlen\u001b[0m\u001b[1;33m(\u001b[0m\u001b[0minds\u001b[0m\u001b[1;33m)\u001b[0m\u001b[1;33m:\u001b[0m\u001b[1;33m\u001b[0m\u001b[0m\n\u001b[1;32m--> 765\u001b[1;33m             \u001b[1;32mraise\u001b[0m \u001b[0mKeyError\u001b[0m\u001b[1;33m(\u001b[0m\u001b[0mname\u001b[0m\u001b[1;33m)\u001b[0m\u001b[1;33m\u001b[0m\u001b[0m\n\u001b[0m\u001b[0;32m    766\u001b[0m \u001b[1;33m\u001b[0m\u001b[0m\n\u001b[0;32m    767\u001b[0m         \u001b[1;32mreturn\u001b[0m \u001b[0mobj\u001b[0m\u001b[1;33m.\u001b[0m\u001b[0m_take\u001b[0m\u001b[1;33m(\u001b[0m\u001b[0minds\u001b[0m\u001b[1;33m,\u001b[0m \u001b[0maxis\u001b[0m\u001b[1;33m=\u001b[0m\u001b[0mself\u001b[0m\u001b[1;33m.\u001b[0m\u001b[0maxis\u001b[0m\u001b[1;33m,\u001b[0m \u001b[0mconvert\u001b[0m\u001b[1;33m=\u001b[0m\u001b[1;32mFalse\u001b[0m\u001b[1;33m)\u001b[0m\u001b[1;33m\u001b[0m\u001b[0m\n",
      "\u001b[1;31mKeyError\u001b[0m: '00040082'"
     ]
    }
   ],
   "source": [
    "#gb[\"spatial_value\"].get_group(\"00040082\") # attention : changer l'id lorsqu'on resample"
   ]
  },
  {
   "cell_type": "code",
   "execution_count": 25,
   "metadata": {
    "ExecuteTime": {
     "end_time": "2018-06-22T13:37:20.383605Z",
     "start_time": "2018-06-22T13:37:20.379610Z"
    },
    "run_control": {
     "marked": false
    }
   },
   "outputs": [],
   "source": [
    "df = pd.DataFrame(gb['spatial_value'].apply(lambda x: \"%s\" % ' '.join(x))).reset_index()"
   ]
  },
  {
   "cell_type": "code",
   "execution_count": 26,
   "metadata": {
    "ExecuteTime": {
     "end_time": "2018-06-22T13:37:22.867251Z",
     "start_time": "2018-06-22T13:37:22.859273Z"
    }
   },
   "outputs": [
    {
     "data": {
      "text/html": [
       "<div>\n",
       "<style scoped>\n",
       "    .dataframe tbody tr th:only-of-type {\n",
       "        vertical-align: middle;\n",
       "    }\n",
       "\n",
       "    .dataframe tbody tr th {\n",
       "        vertical-align: top;\n",
       "    }\n",
       "\n",
       "    .dataframe thead th {\n",
       "        text-align: right;\n",
       "    }\n",
       "</style>\n",
       "<table border=\"1\" class=\"dataframe\">\n",
       "  <thead>\n",
       "    <tr style=\"text-align: right;\">\n",
       "      <th></th>\n",
       "      <th>beeldid</th>\n",
       "      <th>spatial_value</th>\n",
       "    </tr>\n",
       "  </thead>\n",
       "  <tbody>\n",
       "    <tr>\n",
       "      <th>0</th>\n",
       "      <td>00005881</td>\n",
       "      <td>Bruges</td>\n",
       "    </tr>\n",
       "    <tr>\n",
       "      <th>1</th>\n",
       "      <td>00010703</td>\n",
       "      <td>Malines</td>\n",
       "    </tr>\n",
       "    <tr>\n",
       "      <th>2</th>\n",
       "      <td>00029746</td>\n",
       "      <td>Verviers Palais de Justice Verviers</td>\n",
       "    </tr>\n",
       "    <tr>\n",
       "      <th>3</th>\n",
       "      <td>00029795</td>\n",
       "      <td>hôtel de ville Verviers</td>\n",
       "    </tr>\n",
       "    <tr>\n",
       "      <th>4</th>\n",
       "      <td>00038225</td>\n",
       "      <td>Lycée Commun , d' Ixelles</td>\n",
       "    </tr>\n",
       "  </tbody>\n",
       "</table>\n",
       "</div>"
      ],
      "text/plain": [
       "    beeldid                        spatial_value\n",
       "0  00005881                               Bruges\n",
       "1  00010703                              Malines\n",
       "2  00029746  Verviers Palais de Justice Verviers\n",
       "3  00029795              hôtel de ville Verviers\n",
       "4  00038225            Lycée Commun , d' Ixelles"
      ]
     },
     "execution_count": 26,
     "metadata": {},
     "output_type": "execute_result"
    }
   ],
   "source": [
    "df.head()"
   ]
  },
  {
   "cell_type": "code",
   "execution_count": 27,
   "metadata": {
    "ExecuteTime": {
     "end_time": "2018-06-22T13:37:26.851307Z",
     "start_time": "2018-06-22T13:37:26.843310Z"
    }
   },
   "outputs": [
    {
     "data": {
      "text/plain": [
       "0                        bruges\n",
       "1                       malines\n",
       "2    verviers palais de justice\n",
       "3       hotel de ville verviers\n",
       "4         lycee commun  ixelles\n",
       "Name: spatial_value, dtype: object"
      ]
     },
     "execution_count": 27,
     "metadata": {},
     "output_type": "execute_result"
    }
   ],
   "source": [
    "df['spatial_value'].apply(lambda x: Fingerprinter(x).get_fingerprint_nonsorted())"
   ]
  },
  {
   "cell_type": "code",
   "execution_count": 43,
   "metadata": {
    "ExecuteTime": {
     "end_time": "2018-06-22T14:31:45.526256Z",
     "start_time": "2018-06-22T14:31:45.505258Z"
    }
   },
   "outputs": [
    {
     "data": {
      "text/plain": [
       "0                             (00005881, [LOC_PLACE])\n",
       "1                             (00010703, [LOC_PLACE])\n",
       "2    (00029746, [LOC_PLACE, LOC_BUILDING, LOC_PLACE])\n",
       "3               (00029795, [LOC_BUILDING, LOC_PLACE])\n",
       "4                          (00038225, [LOC_BUILDING])\n",
       "dtype: object"
      ]
     },
     "execution_count": 43,
     "metadata": {},
     "output_type": "execute_result"
    }
   ],
   "source": [
    "#transformer les loc_place pays en loc_country\n",
    "with open(r\"C:\\Users\\ettor\\Documents\\GitHub\\UGESCO\\data\\countries.csv\", 'r', encoding=\"utf8\") as f:\n",
    "    countries = set([unidecode(country.strip().lower()) for country in f])\n",
    "    \n",
    "def replace_countries(row):\n",
    "    if unidecode(row['spatial_value'].strip().lower()) in countries:\n",
    "        return \"LOC_COUNTRY\"\n",
    "\n",
    "pd.Series(gb['ner_class'])"
   ]
  },
  {
   "cell_type": "code",
   "execution_count": 36,
   "metadata": {
    "ExecuteTime": {
     "end_time": "2018-06-22T13:49:53.807074Z",
     "start_time": "2018-06-22T13:49:53.794081Z"
    }
   },
   "outputs": [
    {
     "data": {
      "text/plain": [
       "0                             (00005881, [LOC_PLACE])\n",
       "1                             (00010703, [LOC_PLACE])\n",
       "2    (00029746, [LOC_PLACE, LOC_BUILDING, LOC_PLACE])\n",
       "3               (00029795, [LOC_BUILDING, LOC_PLACE])\n",
       "4                          (00038225, [LOC_BUILDING])\n",
       "dtype: object"
      ]
     },
     "execution_count": 36,
     "metadata": {},
     "output_type": "execute_result"
    }
   ],
   "source": [
    "#et maintenant, appliquer la concatenation uniquement aux groupes qui ne contiennent pas plus de trois loc_place\n",
    "pd.Series(gb['ner_class'])"
   ]
  },
  {
   "cell_type": "code",
   "execution_count": null,
   "metadata": {},
   "outputs": [],
   "source": [
    "#appliquer get_nominatim"
   ]
  }
 ],
 "metadata": {
  "kernelspec": {
   "display_name": "Python 3",
   "language": "python",
   "name": "python3"
  },
  "language_info": {
   "codemirror_mode": {
    "name": "ipython",
    "version": 3
   },
   "file_extension": ".py",
   "mimetype": "text/x-python",
   "name": "python",
   "nbconvert_exporter": "python",
   "pygments_lexer": "ipython3",
   "version": "3.6.4"
  },
  "latex_envs": {
   "LaTeX_envs_menu_present": true,
   "autoclose": false,
   "autocomplete": true,
   "bibliofile": "biblio.bib",
   "cite_by": "apalike",
   "current_citInitial": 1,
   "eqLabelWithNumbers": true,
   "eqNumInitial": 1,
   "hotkeys": {
    "equation": "Ctrl-E",
    "itemize": "Ctrl-I"
   },
   "labels_anchors": false,
   "latex_user_defs": false,
   "report_style_numbering": false,
   "user_envs_cfg": false
  },
  "toc": {
   "base_numbering": 1,
   "nav_menu": {},
   "number_sections": true,
   "sideBar": true,
   "skip_h1_title": false,
   "title_cell": "Table of Contents",
   "title_sidebar": "Contents",
   "toc_cell": false,
   "toc_position": {},
   "toc_section_display": "block",
   "toc_window_display": false
  },
  "varInspector": {
   "cols": {
    "lenName": 16,
    "lenType": 16,
    "lenVar": 40
   },
   "kernels_config": {
    "python": {
     "delete_cmd_postfix": "",
     "delete_cmd_prefix": "del ",
     "library": "var_list.py",
     "varRefreshCmd": "print(var_dic_list())"
    },
    "r": {
     "delete_cmd_postfix": ") ",
     "delete_cmd_prefix": "rm(",
     "library": "var_list.r",
     "varRefreshCmd": "cat(var_dic_list()) "
    }
   },
   "position": {
    "height": "224px",
    "left": "1039px",
    "right": "20px",
    "top": "121px",
    "width": "476px"
   },
   "types_to_exclude": [
    "module",
    "function",
    "builtin_function_or_method",
    "instance",
    "_Feature"
   ],
   "window_display": false
  }
 },
 "nbformat": 4,
 "nbformat_minor": 2
}
